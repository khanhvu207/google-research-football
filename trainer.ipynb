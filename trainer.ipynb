{
 "cells": [
  {
   "cell_type": "code",
   "execution_count": 1,
   "metadata": {},
   "outputs": [],
   "source": [
    "from optimizer import *\n",
    "import optuna"
   ]
  },
  {
   "cell_type": "code",
   "execution_count": 2,
   "metadata": {},
   "outputs": [],
   "source": [
    "TRIALS = 20"
   ]
  },
  {
   "cell_type": "code",
   "execution_count": 3,
   "metadata": {},
   "outputs": [
    {
     "name": "stderr",
     "output_type": "stream",
     "text": [
      "\u001b[32m[I 2020-11-07 21:58:10,277]\u001b[0m A new study created in memory with name: no-name-17ab399b-2132-4d7c-8ff0-a04f8dd946f3\u001b[0m\n",
      "/home/kvu/google-research-football/venv/lib/python3.6/site-packages/optuna/progress_bar.py:47: ExperimentalWarning: Progress bar is experimental (supported from v1.2.0). The interface can change in the future.\n",
      "  self._init_valid()\n",
      "  5%|▌         | 1/20 [02:30<47:38, 150.46s/it]"
     ]
    },
    {
     "name": "stdout",
     "output_type": "stream",
     "text": [
      "\u001b[32m[I 2020-11-07 22:00:40,735]\u001b[0m Trial 0 finished with value: -2.6 and parameters: {'SHOT_RANGE_X': 0.8034724256714076, 'SHOT_RANGE_Y': 0.4988816996268298}. Best is trial 0 with value: -2.6.\u001b[0m\n"
     ]
    },
    {
     "name": "stderr",
     "output_type": "stream",
     "text": [
      " 10%|█         | 2/20 [05:04<45:26, 151.45s/it]"
     ]
    },
    {
     "name": "stdout",
     "output_type": "stream",
     "text": [
      "\u001b[32m[I 2020-11-07 22:03:14,499]\u001b[0m Trial 1 finished with value: -1.4 and parameters: {'SHOT_RANGE_X': 0.6834587992688932, 'SHOT_RANGE_Y': 0.23288685651541047}. Best is trial 1 with value: -1.4.\u001b[0m\n"
     ]
    },
    {
     "name": "stderr",
     "output_type": "stream",
     "text": [
      " 15%|█▌        | 3/20 [07:35<42:52, 151.33s/it]"
     ]
    },
    {
     "name": "stdout",
     "output_type": "stream",
     "text": [
      "\u001b[32m[I 2020-11-07 22:05:45,561]\u001b[0m Trial 2 finished with value: -0.8 and parameters: {'SHOT_RANGE_X': 0.8838327098082105, 'SHOT_RANGE_Y': 0.4930393221479841}. Best is trial 2 with value: -0.8.\u001b[0m\n"
     ]
    },
    {
     "name": "stderr",
     "output_type": "stream",
     "text": [
      " 20%|██        | 4/20 [10:10<40:41, 152.57s/it]"
     ]
    },
    {
     "name": "stdout",
     "output_type": "stream",
     "text": [
      "\u001b[32m[I 2020-11-07 22:08:21,013]\u001b[0m Trial 3 finished with value: -1.6 and parameters: {'SHOT_RANGE_X': 0.9948318395430472, 'SHOT_RANGE_Y': 0.41875025748320466}. Best is trial 2 with value: -0.8.\u001b[0m\n"
     ]
    },
    {
     "name": "stderr",
     "output_type": "stream",
     "text": [
      " 25%|██▌       | 5/20 [12:44<38:14, 152.96s/it]"
     ]
    },
    {
     "name": "stdout",
     "output_type": "stream",
     "text": [
      "\u001b[32m[I 2020-11-07 22:10:54,899]\u001b[0m Trial 4 finished with value: -2.4 and parameters: {'SHOT_RANGE_X': 0.6326194753927536, 'SHOT_RANGE_Y': 0.23424386674362596}. Best is trial 2 with value: -0.8.\u001b[0m\n"
     ]
    },
    {
     "name": "stderr",
     "output_type": "stream",
     "text": [
      " 30%|███       | 6/20 [15:19<35:51, 153.66s/it]"
     ]
    },
    {
     "name": "stdout",
     "output_type": "stream",
     "text": [
      "\u001b[32m[I 2020-11-07 22:13:30,172]\u001b[0m Trial 5 finished with value: -0.8 and parameters: {'SHOT_RANGE_X': 0.9412888969607034, 'SHOT_RANGE_Y': 0.15618020340773225}. Best is trial 2 with value: -0.8.\u001b[0m\n"
     ]
    },
    {
     "name": "stderr",
     "output_type": "stream",
     "text": [
      " 35%|███▌      | 7/20 [18:04<34:01, 157.04s/it]"
     ]
    },
    {
     "name": "stdout",
     "output_type": "stream",
     "text": [
      "\u001b[32m[I 2020-11-07 22:16:15,100]\u001b[0m Trial 6 finished with value: -2.8 and parameters: {'SHOT_RANGE_X': 0.791030802596611, 'SHOT_RANGE_Y': 0.11849939593702719}. Best is trial 2 with value: -0.8.\u001b[0m\n"
     ]
    },
    {
     "name": "stderr",
     "output_type": "stream",
     "text": [
      " 40%|████      | 8/20 [20:47<31:45, 158.77s/it]"
     ]
    },
    {
     "name": "stdout",
     "output_type": "stream",
     "text": [
      "\u001b[32m[I 2020-11-07 22:18:57,899]\u001b[0m Trial 7 finished with value: -1.2 and parameters: {'SHOT_RANGE_X': 0.636101899340925, 'SHOT_RANGE_Y': 0.3297731054512353}. Best is trial 2 with value: -0.8.\u001b[0m\n"
     ]
    },
    {
     "name": "stderr",
     "output_type": "stream",
     "text": [
      " 45%|████▌     | 9/20 [23:16<28:32, 155.72s/it]"
     ]
    },
    {
     "name": "stdout",
     "output_type": "stream",
     "text": [
      "\u001b[32m[I 2020-11-07 22:21:26,507]\u001b[0m Trial 8 finished with value: -1.8 and parameters: {'SHOT_RANGE_X': 0.9655620418262423, 'SHOT_RANGE_Y': 0.46244172754308743}. Best is trial 2 with value: -0.8.\u001b[0m\n"
     ]
    },
    {
     "name": "stderr",
     "output_type": "stream",
     "text": [
      " 50%|█████     | 10/20 [25:45<25:36, 153.66s/it]"
     ]
    },
    {
     "name": "stdout",
     "output_type": "stream",
     "text": [
      "\u001b[32m[I 2020-11-07 22:23:55,365]\u001b[0m Trial 9 finished with value: -1.8 and parameters: {'SHOT_RANGE_X': 0.7794398022531392, 'SHOT_RANGE_Y': 0.20192542145180897}. Best is trial 2 with value: -0.8.\u001b[0m\n"
     ]
    },
    {
     "name": "stderr",
     "output_type": "stream",
     "text": [
      " 55%|█████▌    | 11/20 [28:21<23:09, 154.35s/it]"
     ]
    },
    {
     "name": "stdout",
     "output_type": "stream",
     "text": [
      "\u001b[32m[I 2020-11-07 22:26:31,333]\u001b[0m Trial 10 finished with value: -2.2 and parameters: {'SHOT_RANGE_X': 0.880592681225336, 'SHOT_RANGE_Y': 0.010399111837291836}. Best is trial 2 with value: -0.8.\u001b[0m\n"
     ]
    },
    {
     "name": "stderr",
     "output_type": "stream",
     "text": [
      " 60%|██████    | 12/20 [31:07<21:04, 158.09s/it]"
     ]
    },
    {
     "name": "stdout",
     "output_type": "stream",
     "text": [
      "\u001b[32m[I 2020-11-07 22:29:18,149]\u001b[0m Trial 11 finished with value: -0.8 and parameters: {'SHOT_RANGE_X': 0.9143928158673285, 'SHOT_RANGE_Y': 0.09824216575926889}. Best is trial 2 with value: -0.8.\u001b[0m\n"
     ]
    },
    {
     "name": "stderr",
     "output_type": "stream",
     "text": [
      " 65%|██████▌   | 13/20 [33:41<18:17, 156.81s/it]"
     ]
    },
    {
     "name": "stdout",
     "output_type": "stream",
     "text": [
      "\u001b[32m[I 2020-11-07 22:31:51,979]\u001b[0m Trial 12 finished with value: -2.0 and parameters: {'SHOT_RANGE_X': 0.8795404464665395, 'SHOT_RANGE_Y': 0.3336719740702826}. Best is trial 2 with value: -0.8.\u001b[0m\n"
     ]
    },
    {
     "name": "stderr",
     "output_type": "stream",
     "text": [
      " 70%|███████   | 14/20 [36:11<15:28, 154.67s/it]"
     ]
    },
    {
     "name": "stdout",
     "output_type": "stream",
     "text": [
      "\u001b[32m[I 2020-11-07 22:34:21,662]\u001b[0m Trial 13 finished with value: -1.2 and parameters: {'SHOT_RANGE_X': 0.9442964780984543, 'SHOT_RANGE_Y': 0.13648865695308587}. Best is trial 2 with value: -0.8.\u001b[0m\n"
     ]
    },
    {
     "name": "stderr",
     "output_type": "stream",
     "text": [
      " 75%|███████▌  | 15/20 [38:38<12:42, 152.43s/it]"
     ]
    },
    {
     "name": "stdout",
     "output_type": "stream",
     "text": [
      "\u001b[32m[I 2020-11-07 22:36:48,866]\u001b[0m Trial 14 finished with value: -0.6 and parameters: {'SHOT_RANGE_X': 0.8612207984425071, 'SHOT_RANGE_Y': 0.05730355839355464}. Best is trial 14 with value: -0.6.\u001b[0m\n"
     ]
    },
    {
     "name": "stderr",
     "output_type": "stream",
     "text": [
      " 80%|████████  | 16/20 [41:17<10:16, 154.24s/it]"
     ]
    },
    {
     "name": "stdout",
     "output_type": "stream",
     "text": [
      "\u001b[32m[I 2020-11-07 22:39:27,306]\u001b[0m Trial 15 finished with value: -1.8 and parameters: {'SHOT_RANGE_X': 0.5093166069937674, 'SHOT_RANGE_Y': 0.026617144220119265}. Best is trial 14 with value: -0.6.\u001b[0m\n"
     ]
    },
    {
     "name": "stderr",
     "output_type": "stream",
     "text": [
      " 85%|████████▌ | 17/20 [43:56<07:47, 155.93s/it]"
     ]
    },
    {
     "name": "stdout",
     "output_type": "stream",
     "text": [
      "\u001b[32m[I 2020-11-07 22:42:07,183]\u001b[0m Trial 16 finished with value: -2.2 and parameters: {'SHOT_RANGE_X': 0.8558121273762341, 'SHOT_RANGE_Y': 0.3165513094797763}. Best is trial 14 with value: -0.6.\u001b[0m\n"
     ]
    },
    {
     "name": "stderr",
     "output_type": "stream",
     "text": [
      " 90%|█████████ | 18/20 [46:31<05:11, 155.60s/it]"
     ]
    },
    {
     "name": "stdout",
     "output_type": "stream",
     "text": [
      "\u001b[32m[I 2020-11-07 22:44:42,003]\u001b[0m Trial 17 finished with value: -2.2 and parameters: {'SHOT_RANGE_X': 0.7085637371182847, 'SHOT_RANGE_Y': 0.0528558516103805}. Best is trial 14 with value: -0.6.\u001b[0m\n"
     ]
    },
    {
     "name": "stderr",
     "output_type": "stream",
     "text": [
      " 95%|█████████▌| 19/20 [49:05<02:35, 155.19s/it]"
     ]
    },
    {
     "name": "stdout",
     "output_type": "stream",
     "text": [
      "\u001b[32m[I 2020-11-07 22:47:16,231]\u001b[0m Trial 18 finished with value: -1.0 and parameters: {'SHOT_RANGE_X': 0.8342224368059743, 'SHOT_RANGE_Y': 0.4038483321838331}. Best is trial 14 with value: -0.6.\u001b[0m\n"
     ]
    },
    {
     "name": "stderr",
     "output_type": "stream",
     "text": [
      "100%|██████████| 20/20 [51:42<00:00, 155.11s/it]"
     ]
    },
    {
     "name": "stdout",
     "output_type": "stream",
     "text": [
      "\u001b[32m[I 2020-11-07 22:49:52,476]\u001b[0m Trial 19 finished with value: -0.4 and parameters: {'SHOT_RANGE_X': 0.7390704226066688, 'SHOT_RANGE_Y': 0.29622482553615626}. Best is trial 19 with value: -0.4.\u001b[0m\n"
     ]
    },
    {
     "name": "stderr",
     "output_type": "stream",
     "text": [
      "\n"
     ]
    }
   ],
   "source": [
    "study = optuna.create_study(direction=\"maximize\")\n",
    "study.optimize(objective, n_trials=TRIALS, show_progress_bar=True)"
   ]
  },
  {
   "cell_type": "code",
   "execution_count": 4,
   "metadata": {},
   "outputs": [
    {
     "data": {
      "text/plain": [
       "-0.4"
      ]
     },
     "execution_count": 4,
     "metadata": {},
     "output_type": "execute_result"
    }
   ],
   "source": [
    "study.best_value"
   ]
  },
  {
   "cell_type": "code",
   "execution_count": 5,
   "metadata": {},
   "outputs": [
    {
     "data": {
      "text/plain": [
       "{'SHOT_RANGE_X': 0.7390704226066688, 'SHOT_RANGE_Y': 0.29622482553615626}"
      ]
     },
     "execution_count": 5,
     "metadata": {},
     "output_type": "execute_result"
    }
   ],
   "source": [
    "study.best_params"
   ]
  },
  {
   "cell_type": "code",
   "execution_count": 8,
   "metadata": {},
   "outputs": [
    {
     "name": "stdout",
     "output_type": "stream",
     "text": [
      "Collecting plotly\n",
      "  Downloading plotly-4.12.0-py2.py3-none-any.whl (13.1 MB)\n",
      "\u001b[K     |████████████████████████████████| 13.1 MB 9.1 MB/s eta 0:00:01\n",
      "\u001b[?25hCollecting retrying>=1.3.3\n",
      "  Downloading retrying-1.3.3.tar.gz (10 kB)\n",
      "Requirement already satisfied: six in ./venv/lib/python3.6/site-packages (from plotly) (1.15.0)\n",
      "Building wheels for collected packages: retrying\n",
      "  Building wheel for retrying (setup.py) ... \u001b[?25ldone\n",
      "\u001b[?25h  Created wheel for retrying: filename=retrying-1.3.3-py3-none-any.whl size=11429 sha256=672548bcb22f32a6f3d276cc62b845d691cfb3d566585bf443dade05a2cb58e4\n",
      "  Stored in directory: /home/kvu/.cache/pip/wheels/ac/cb/8a/b27bf6323e2f4c462dcbf77d70b7c5e7868a7fbe12871770cf\n",
      "Successfully built retrying\n",
      "Installing collected packages: retrying, plotly\n",
      "Successfully installed plotly-4.12.0 retrying-1.3.3\n",
      "\u001b[33mWARNING: You are using pip version 20.2.3; however, version 20.2.4 is available.\n",
      "You should consider upgrading via the '/home/kvu/google-research-football/venv/bin/python -m pip install --upgrade pip' command.\u001b[0m\n"
     ]
    }
   ],
   "source": [
    "!pip3 install plotly"
   ]
  },
  {
   "cell_type": "code",
   "execution_count": 9,
   "metadata": {},
   "outputs": [
    {
     "ename": "ImportError",
     "evalue": "Tried to import 'plotly' but failed. Please make sure that the package is installed correctly to use this feature. Actual error: No module named 'plotly'.",
     "output_type": "error",
     "traceback": [
      "\u001b[0;31m---------------------------------------------------------------------------\u001b[0m",
      "\u001b[0;31mModuleNotFoundError\u001b[0m                       Traceback (most recent call last)",
      "\u001b[0;32m~/google-research-football/venv/lib/python3.6/site-packages/optuna/visualization/_plotly_imports.py\u001b[0m in \u001b[0;36m<module>\u001b[0;34m\u001b[0m\n\u001b[1;32m      6\u001b[0m \u001b[0;32mwith\u001b[0m \u001b[0mtry_import\u001b[0m\u001b[0;34m(\u001b[0m\u001b[0;34m)\u001b[0m \u001b[0;32mas\u001b[0m \u001b[0m_imports\u001b[0m\u001b[0;34m:\u001b[0m  \u001b[0;31m# NOQA\u001b[0m\u001b[0;34m\u001b[0m\u001b[0;34m\u001b[0m\u001b[0m\n\u001b[0;32m----> 7\u001b[0;31m     \u001b[0;32mimport\u001b[0m \u001b[0mplotly\u001b[0m  \u001b[0;31m# NOQA\u001b[0m\u001b[0;34m\u001b[0m\u001b[0;34m\u001b[0m\u001b[0m\n\u001b[0m\u001b[1;32m      8\u001b[0m     \u001b[0;32mfrom\u001b[0m \u001b[0mplotly\u001b[0m \u001b[0;32mimport\u001b[0m \u001b[0m__version__\u001b[0m \u001b[0;32mas\u001b[0m \u001b[0mplotly_version\u001b[0m\u001b[0;34m\u001b[0m\u001b[0;34m\u001b[0m\u001b[0m\n",
      "\u001b[0;31mModuleNotFoundError\u001b[0m: No module named 'plotly'",
      "\nThe above exception was the direct cause of the following exception:\n",
      "\u001b[0;31mImportError\u001b[0m                               Traceback (most recent call last)",
      "\u001b[0;32m<ipython-input-9-ead32857dee2>\u001b[0m in \u001b[0;36m<module>\u001b[0;34m\u001b[0m\n\u001b[0;32m----> 1\u001b[0;31m \u001b[0moptuna\u001b[0m\u001b[0;34m.\u001b[0m\u001b[0mvisualization\u001b[0m\u001b[0;34m.\u001b[0m\u001b[0mplot_optimization_history\u001b[0m\u001b[0;34m(\u001b[0m\u001b[0mstudy\u001b[0m\u001b[0;34m)\u001b[0m\u001b[0;34m\u001b[0m\u001b[0;34m\u001b[0m\u001b[0m\n\u001b[0m",
      "\u001b[0;32m~/google-research-football/venv/lib/python3.6/site-packages/optuna/visualization/_optimization_history.py\u001b[0m in \u001b[0;36mplot_optimization_history\u001b[0;34m(study)\u001b[0m\n\u001b[1;32m     50\u001b[0m     \"\"\"\n\u001b[1;32m     51\u001b[0m \u001b[0;34m\u001b[0m\u001b[0m\n\u001b[0;32m---> 52\u001b[0;31m     \u001b[0m_imports\u001b[0m\u001b[0;34m.\u001b[0m\u001b[0mcheck\u001b[0m\u001b[0;34m(\u001b[0m\u001b[0;34m)\u001b[0m\u001b[0;34m\u001b[0m\u001b[0;34m\u001b[0m\u001b[0m\n\u001b[0m\u001b[1;32m     53\u001b[0m     \u001b[0;32mreturn\u001b[0m \u001b[0m_get_optimization_history_plot\u001b[0m\u001b[0;34m(\u001b[0m\u001b[0mstudy\u001b[0m\u001b[0;34m)\u001b[0m\u001b[0;34m\u001b[0m\u001b[0;34m\u001b[0m\u001b[0m\n\u001b[1;32m     54\u001b[0m \u001b[0;34m\u001b[0m\u001b[0m\n",
      "\u001b[0;32m~/google-research-football/venv/lib/python3.6/site-packages/optuna/_imports.py\u001b[0m in \u001b[0;36mcheck\u001b[0;34m(self)\u001b[0m\n\u001b[1;32m     84\u001b[0m         \u001b[0;32mif\u001b[0m \u001b[0mself\u001b[0m\u001b[0;34m.\u001b[0m\u001b[0m_deferred\u001b[0m \u001b[0;32mis\u001b[0m \u001b[0;32mnot\u001b[0m \u001b[0;32mNone\u001b[0m\u001b[0;34m:\u001b[0m\u001b[0;34m\u001b[0m\u001b[0;34m\u001b[0m\u001b[0m\n\u001b[1;32m     85\u001b[0m             \u001b[0mexc_value\u001b[0m\u001b[0;34m,\u001b[0m \u001b[0mmessage\u001b[0m \u001b[0;34m=\u001b[0m \u001b[0mself\u001b[0m\u001b[0;34m.\u001b[0m\u001b[0m_deferred\u001b[0m\u001b[0;34m\u001b[0m\u001b[0;34m\u001b[0m\u001b[0m\n\u001b[0;32m---> 86\u001b[0;31m             \u001b[0;32mraise\u001b[0m \u001b[0mImportError\u001b[0m\u001b[0;34m(\u001b[0m\u001b[0mmessage\u001b[0m\u001b[0;34m)\u001b[0m \u001b[0;32mfrom\u001b[0m \u001b[0mexc_value\u001b[0m\u001b[0;34m\u001b[0m\u001b[0;34m\u001b[0m\u001b[0m\n\u001b[0m\u001b[1;32m     87\u001b[0m \u001b[0;34m\u001b[0m\u001b[0m\n\u001b[1;32m     88\u001b[0m \u001b[0;34m\u001b[0m\u001b[0m\n",
      "\u001b[0;31mImportError\u001b[0m: Tried to import 'plotly' but failed. Please make sure that the package is installed correctly to use this feature. Actual error: No module named 'plotly'."
     ]
    }
   ],
   "source": [
    "optuna.visualization.plot_optimization_history(study)"
   ]
  },
  {
   "cell_type": "code",
   "execution_count": null,
   "metadata": {},
   "outputs": [],
   "source": []
  }
 ],
 "metadata": {
  "kernelspec": {
   "display_name": "Python 3.6.12 64-bit ('venv')",
   "language": "python",
   "name": "python361264bitvenv6e5e44c16f5f424090fffc07fd22dd1c"
  },
  "language_info": {
   "codemirror_mode": {
    "name": "ipython",
    "version": 3
   },
   "file_extension": ".py",
   "mimetype": "text/x-python",
   "name": "python",
   "nbconvert_exporter": "python",
   "pygments_lexer": "ipython3",
   "version": "3.6.12"
  }
 },
 "nbformat": 4,
 "nbformat_minor": 4
}
