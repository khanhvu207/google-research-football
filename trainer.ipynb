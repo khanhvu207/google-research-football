{
 "cells": [
  {
   "cell_type": "code",
   "execution_count": 1,
   "metadata": {},
   "outputs": [],
   "source": [
    "from optimizer import *\n",
    "import optuna"
   ]
  },
  {
   "cell_type": "code",
   "execution_count": 2,
   "metadata": {},
   "outputs": [],
   "source": [
    "TRIALS = 50\n",
    "JOBS = 1"
   ]
  },
  {
   "cell_type": "code",
   "execution_count": null,
   "metadata": {},
   "outputs": [
    {
     "name": "stderr",
     "output_type": "stream",
     "text": [
      "\u001b[32m[I 2020-11-09 03:08:42,919]\u001b[0m A new study created in memory with name: no-name-b2ae1958-1db6-49c4-94c7-292cff1ff8bc\u001b[0m\n",
      "\u001b[32m[I 2020-11-09 03:08:59,309]\u001b[0m Trial 0 finished with value: 4.0 and parameters: {'GK_PROX': 0.11512433199330173}. Best is trial 0 with value: 4.0.\u001b[0m\n",
      "\u001b[32m[I 2020-11-09 03:09:07,210]\u001b[0m Trial 1 finished with value: 4.0 and parameters: {'GK_PROX': 0.19252979717755545}. Best is trial 0 with value: 4.0.\u001b[0m\n",
      "\u001b[32m[I 2020-11-09 03:09:16,000]\u001b[0m Trial 2 finished with value: 5.0 and parameters: {'GK_PROX': 0.11666474570218453}. Best is trial 2 with value: 5.0.\u001b[0m\n",
      "\u001b[32m[I 2020-11-09 03:09:24,063]\u001b[0m Trial 3 finished with value: 4.0 and parameters: {'GK_PROX': 0.17066988038160155}. Best is trial 2 with value: 5.0.\u001b[0m\n",
      "\u001b[32m[I 2020-11-09 03:09:31,870]\u001b[0m Trial 4 finished with value: 3.0 and parameters: {'GK_PROX': 0.02337196436287279}. Best is trial 2 with value: 5.0.\u001b[0m\n",
      "\u001b[32m[I 2020-11-09 03:09:39,067]\u001b[0m Trial 5 finished with value: 3.0 and parameters: {'GK_PROX': 0.07771720572289245}. Best is trial 2 with value: 5.0.\u001b[0m\n",
      "\u001b[32m[I 2020-11-09 03:09:46,745]\u001b[0m Trial 6 finished with value: 4.0 and parameters: {'GK_PROX': 0.1265779480601487}. Best is trial 2 with value: 5.0.\u001b[0m\n",
      "\u001b[32m[I 2020-11-09 03:09:54,464]\u001b[0m Trial 7 finished with value: 2.0 and parameters: {'GK_PROX': 0.08261433432346109}. Best is trial 2 with value: 5.0.\u001b[0m\n",
      "\u001b[32m[I 2020-11-09 03:10:02,116]\u001b[0m Trial 8 finished with value: 1.0 and parameters: {'GK_PROX': 0.060563445414225495}. Best is trial 2 with value: 5.0.\u001b[0m\n",
      "\u001b[32m[I 2020-11-09 03:10:09,936]\u001b[0m Trial 9 finished with value: 3.0 and parameters: {'GK_PROX': 0.11988966067234517}. Best is trial 2 with value: 5.0.\u001b[0m\n",
      "\u001b[32m[I 2020-11-09 03:10:17,687]\u001b[0m Trial 10 finished with value: 6.0 and parameters: {'GK_PROX': 0.15918983412013962}. Best is trial 10 with value: 6.0.\u001b[0m\n",
      "\u001b[32m[I 2020-11-09 03:10:24,881]\u001b[0m Trial 11 finished with value: 4.0 and parameters: {'GK_PROX': 0.15741604789034513}. Best is trial 10 with value: 6.0.\u001b[0m\n",
      "\u001b[32m[I 2020-11-09 03:10:32,328]\u001b[0m Trial 12 finished with value: 3.0 and parameters: {'GK_PROX': 0.15293429333811098}. Best is trial 10 with value: 6.0.\u001b[0m\n",
      "\u001b[32m[I 2020-11-09 03:10:40,127]\u001b[0m Trial 13 finished with value: 2.0 and parameters: {'GK_PROX': 0.1993987947609268}. Best is trial 10 with value: 6.0.\u001b[0m\n",
      "\u001b[32m[I 2020-11-09 03:10:47,643]\u001b[0m Trial 14 finished with value: 1.0 and parameters: {'GK_PROX': 0.13866206273164017}. Best is trial 10 with value: 6.0.\u001b[0m\n",
      "\u001b[32m[I 2020-11-09 03:10:55,778]\u001b[0m Trial 15 finished with value: 3.0 and parameters: {'GK_PROX': 0.17229075678093353}. Best is trial 10 with value: 6.0.\u001b[0m\n",
      "\u001b[32m[I 2020-11-09 03:11:03,157]\u001b[0m Trial 16 finished with value: 5.0 and parameters: {'GK_PROX': 0.09844510255525968}. Best is trial 10 with value: 6.0.\u001b[0m\n",
      "\u001b[32m[I 2020-11-09 03:11:10,936]\u001b[0m Trial 17 finished with value: 4.0 and parameters: {'GK_PROX': 0.045763978585878134}. Best is trial 10 with value: 6.0.\u001b[0m\n",
      "\u001b[32m[I 2020-11-09 03:11:18,590]\u001b[0m Trial 18 finished with value: 3.0 and parameters: {'GK_PROX': 0.0973851178740996}. Best is trial 10 with value: 6.0.\u001b[0m\n",
      "\u001b[32m[I 2020-11-09 03:11:26,591]\u001b[0m Trial 19 finished with value: 3.0 and parameters: {'GK_PROX': 0.14363134455920049}. Best is trial 10 with value: 6.0.\u001b[0m\n",
      "\u001b[32m[I 2020-11-09 03:11:34,008]\u001b[0m Trial 20 finished with value: 4.0 and parameters: {'GK_PROX': 0.18033154186773453}. Best is trial 10 with value: 6.0.\u001b[0m\n",
      "\u001b[32m[I 2020-11-09 03:11:41,561]\u001b[0m Trial 21 finished with value: 3.0 and parameters: {'GK_PROX': 0.10739365782914494}. Best is trial 10 with value: 6.0.\u001b[0m\n",
      "\u001b[32m[I 2020-11-09 03:11:49,361]\u001b[0m Trial 22 finished with value: 4.0 and parameters: {'GK_PROX': 0.09021735860609287}. Best is trial 10 with value: 6.0.\u001b[0m\n",
      "\u001b[32m[I 2020-11-09 03:11:57,165]\u001b[0m Trial 23 finished with value: 2.0 and parameters: {'GK_PROX': 0.13428933467043522}. Best is trial 10 with value: 6.0.\u001b[0m\n",
      "\u001b[32m[I 2020-11-09 03:12:04,801]\u001b[0m Trial 24 finished with value: 4.0 and parameters: {'GK_PROX': 0.10674266399152099}. Best is trial 10 with value: 6.0.\u001b[0m\n",
      "\u001b[32m[I 2020-11-09 03:12:12,325]\u001b[0m Trial 25 finished with value: 5.0 and parameters: {'GK_PROX': 0.0699236387027214}. Best is trial 10 with value: 6.0.\u001b[0m\n"
     ]
    }
   ],
   "source": [
    "study = optuna.create_study(direction=\"maximize\")\n",
    "study.optimize(objective, n_jobs=JOBS, n_trials=TRIALS, show_progress_bar=False)"
   ]
  },
  {
   "cell_type": "code",
   "execution_count": null,
   "metadata": {},
   "outputs": [],
   "source": [
    "study.best_value"
   ]
  },
  {
   "cell_type": "code",
   "execution_count": null,
   "metadata": {},
   "outputs": [],
   "source": [
    "study.best_params"
   ]
  },
  {
   "cell_type": "code",
   "execution_count": null,
   "metadata": {},
   "outputs": [],
   "source": [
    "optuna.visualization.plot_optimization_history(study)"
   ]
  },
  {
   "cell_type": "code",
   "execution_count": null,
   "metadata": {},
   "outputs": [],
   "source": []
  }
 ],
 "metadata": {
  "kernelspec": {
   "display_name": "Python 3.6.12 64-bit ('venv')",
   "language": "python",
   "name": "python361264bitvenv6e5e44c16f5f424090fffc07fd22dd1c"
  },
  "language_info": {
   "codemirror_mode": {
    "name": "ipython",
    "version": 3
   },
   "file_extension": ".py",
   "mimetype": "text/x-python",
   "name": "python",
   "nbconvert_exporter": "python",
   "pygments_lexer": "ipython3",
   "version": "3.6.12"
  }
 },
 "nbformat": 4,
 "nbformat_minor": 4
}
