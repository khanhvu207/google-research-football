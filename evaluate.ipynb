{
 "cells": [
  {
   "cell_type": "code",
   "execution_count": 1,
   "metadata": {},
   "outputs": [
    {
     "name": "stdout",
     "output_type": "stream",
     "text": [
      "Staring a new environment 2948c8b8-d2cb-4a2d-aba7-3ac4687dbf20: with scenario: 11_vs_11_kaggle\n",
      "Resetting environment 2948c8b8-d2cb-4a2d-aba7-3ac4687dbf20: with scenario: 11_vs_11_kaggle\n",
      "Left player: reward = 0, status = DONE, info = {}\n",
      "Resetting environment 2948c8b8-d2cb-4a2d-aba7-3ac4687dbf20: with scenario: 11_vs_11_kaggle\n",
      "Left player: reward = 2, status = DONE, info = {}\n",
      "Resetting environment 2948c8b8-d2cb-4a2d-aba7-3ac4687dbf20: with scenario: 11_vs_11_kaggle\n",
      "Left player: reward = 4, status = DONE, info = {}\n",
      "Resetting environment 2948c8b8-d2cb-4a2d-aba7-3ac4687dbf20: with scenario: 11_vs_11_kaggle\n",
      "Left player: reward = 1, status = DONE, info = {}\n",
      "Resetting environment 2948c8b8-d2cb-4a2d-aba7-3ac4687dbf20: with scenario: 11_vs_11_kaggle\n",
      "Left player: reward = 1, status = DONE, info = {}\n",
      "Avg_score = 1.6, Win rate = 0.8\n"
     ]
    }
   ],
   "source": [
    "import sys\n",
    "\n",
    "from kaggle_environments import make\n",
    "\n",
    "render = False\n",
    "debug = True\n",
    "eps = 5\n",
    "MY_AGENT = \"main.py\"\n",
    "OPPONENT_AGENT = \"dummy_agents/memory_patterns_v2.py\"\n",
    "SCENARIO = \"11_vs_11_kaggle\"\n",
    "\n",
    "env = make(\"football\", configuration={\"save_video\": render, \"scenario_name\": SCENARIO, \"running_in_notebook\": True}, debug = debug)\n",
    "\n",
    "exp = 0\n",
    "wins_count = 0\n",
    "for _ in range(eps):\n",
    "    output = env.run([MY_AGENT, OPPONENT_AGENT])[-1]\n",
    "    print('Left player: reward = %s, status = %s, info = %s' % (output[0]['reward'], output[0]['status'], output[0]['info']))\n",
    "    exp += output[0]['reward']\n",
    "    wins_count += output[0]['reward'] > 0\n",
    "\n",
    "exp /= eps\n",
    "print(f\"Avg_score = {exp}, Win rate = {wins_count / eps}\")"
   ]
  },
  {
   "cell_type": "code",
   "execution_count": 2,
   "metadata": {},
   "outputs": [],
   "source": [
    "if render:\n",
    "    env.render(mode=\"human\", width=800, height=600)"
   ]
  },
  {
   "cell_type": "code",
   "execution_count": null,
   "metadata": {},
   "outputs": [],
   "source": []
  }
 ],
 "metadata": {
  "kernelspec": {
   "display_name": "Python 3",
   "language": "python",
   "name": "python3"
  },
  "language_info": {
   "codemirror_mode": {
    "name": "ipython",
    "version": 3
   },
   "file_extension": ".py",
   "mimetype": "text/x-python",
   "name": "python",
   "nbconvert_exporter": "python",
   "pygments_lexer": "ipython3",
   "version": "3.6.12"
  }
 },
 "nbformat": 4,
 "nbformat_minor": 4
}
