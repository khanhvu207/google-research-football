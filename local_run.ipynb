{
 "cells": [
  {
   "cell_type": "code",
   "execution_count": 1,
   "metadata": {
    "scrolled": false
   },
   "outputs": [
    {
     "name": "stdout",
     "output_type": "stream",
     "text": [
      "Left player: reward = -2, status = DONE, info = {}\n",
      "Left player: reward = 1, status = DONE, info = {}\n",
      "Left player: reward = 2, status = DONE, info = {}\n",
      "Left player: reward = 0, status = DONE, info = {}\n",
      "Left player: reward = -1, status = DONE, info = {}\n",
      "Left player: reward = 0, status = DONE, info = {}\n",
      "Left player: reward = 1, status = DONE, info = {}\n",
      "Left player: reward = 1, status = DONE, info = {}\n",
      "Left player: reward = -1, status = DONE, info = {}\n",
      "Left player: reward = 2, status = DONE, info = {}\n",
      "Left player: reward = 2, status = DONE, info = {}\n",
      "Left player: reward = -3, status = DONE, info = {}\n",
      "Left player: reward = 2, status = DONE, info = {}\n",
      "Left player: reward = -1, status = DONE, info = {}\n",
      "Left player: reward = -3, status = DONE, info = {}\n",
      "Left player: reward = -3, status = DONE, info = {}\n",
      "Left player: reward = -2, status = DONE, info = {}\n",
      "Left player: reward = 3, status = DONE, info = {}\n",
      "Left player: reward = 3, status = DONE, info = {}\n",
      "Left player: reward = -5, status = DONE, info = {}\n",
      "Avg_score = -0.2, Win rate = 0.45\n"
     ]
    }
   ],
   "source": [
    "from kaggle_environments import make\n",
    "\n",
    "render = False\n",
    "debug = False\n",
    "eps = 20\n",
    "agent_1 = \"/home/kvu/google-research-football/agents/memory_patterns.py\"\n",
    "agent_2 = \"/home/kvu/google-research-football/agents/submission_4/main.py\"\n",
    "\n",
    "env = make(\"football\", configuration={\"save_video\": render, \"scenario_name\": \"11_vs_11_kaggle\", \"running_in_notebook\": True}, debug = debug)\n",
    "\n",
    "exp = 0\n",
    "wins_count = 0\n",
    "for _ in range(eps):\n",
    "    output = env.run([agent_1, agent_2])[-1]\n",
    "    print('Left player: reward = %s, status = %s, info = %s' % (output[0]['reward'], output[0]['status'], output[0]['info']))\n",
    "    exp += output[0]['reward']\n",
    "    wins_count += output[0]['reward'] > 0\n",
    "\n",
    "exp /= eps\n",
    "print(f\"Avg_score = {exp}, Win rate = {wins_count / eps}\")"
   ]
  },
  {
   "cell_type": "code",
   "execution_count": 2,
   "metadata": {
    "scrolled": false
   },
   "outputs": [],
   "source": [
    "if render:\n",
    "    env.render(mode=\"human\", width=800, height=600)"
   ]
  }
 ],
 "metadata": {
  "kernelspec": {
   "display_name": "Python 3",
   "language": "python",
   "name": "python3"
  },
  "language_info": {
   "codemirror_mode": {
    "name": "ipython",
    "version": 3
   },
   "file_extension": ".py",
   "mimetype": "text/x-python",
   "name": "python",
   "nbconvert_exporter": "python",
   "pygments_lexer": "ipython3",
   "version": "3.6.12"
  }
 },
 "nbformat": 4,
 "nbformat_minor": 4
}
