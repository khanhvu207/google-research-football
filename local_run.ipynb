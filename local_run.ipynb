{
 "cells": [
  {
   "cell_type": "code",
   "execution_count": null,
   "metadata": {
    "scrolled": false
   },
   "outputs": [],
   "source": [
    "from kaggle_environments import make\n",
    "\n",
    "render = False\n",
    "debug = False\n",
    "eps = 20\n",
    "\n",
    "env = make(\"football\", configuration={\"save_video\": render, \"scenario_name\": \"11_vs_11_kaggle\", \"running_in_notebook\": True}, debug = debug)\n",
    "\n",
    "exp = 0\n",
    "wins_count = 0\n",
    "for _ in range(eps):\n",
    "    output = env.run([\"main.py\", \"agents/submission_2/main.py\"])[-1]\n",
    "    print('Left player: reward = %s, status = %s, info = %s' % (output[0]['reward'], output[0]['status'], output[0]['info']))\n",
    "    exp += output[0]['reward']\n",
    "    wins_count += output[0]['reward'] > 0\n",
    "\n",
    "exp /= eps\n",
    "print(f\"Avg_score = {exp}, Win rate = {wins_count / eps}\")"
   ]
  },
  {
   "cell_type": "code",
   "execution_count": null,
   "metadata": {
    "scrolled": false
   },
   "outputs": [],
   "source": [
    "if render:\n",
    "    env.render(mode=\"human\", width=800, height=600)"
   ]
  }
 ],
 "metadata": {
  "kernelspec": {
   "display_name": "Python 3",
   "language": "python",
   "name": "python3"
  },
  "language_info": {
   "codemirror_mode": {
    "name": "ipython",
    "version": 3
   },
   "file_extension": ".py",
   "mimetype": "text/x-python",
   "name": "python",
   "nbconvert_exporter": "python",
   "pygments_lexer": "ipython3",
   "version": "3.6.12"
  }
 },
 "nbformat": 4,
 "nbformat_minor": 4
}
